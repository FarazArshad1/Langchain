{
 "cells": [
  {
   "cell_type": "markdown",
   "id": "f30538ef",
   "metadata": {},
   "source": [
    "# Tool Binding\n",
    "\n",
    "Tool Binding is the step where you register tools with a Language Model (LLM) so that:\n",
    "\n",
    " - The LLM knows what tools are available\n",
    "\n",
    " - It knows what each tool does (via description)\n",
    "\n",
    " - It knows what input format to use (via schema)"
   ]
  },
  {
   "cell_type": "code",
   "execution_count": 6,
   "id": "6437b6dd",
   "metadata": {},
   "outputs": [
    {
     "data": {
      "text/plain": [
       "True"
      ]
     },
     "execution_count": 6,
     "metadata": {},
     "output_type": "execute_result"
    }
   ],
   "source": [
    "from langchain_openai import ChatOpenAI\n",
    "from langchain_core.tools import tool\n",
    "from langchain_core.messages import SystemMessage, HumanMessage\n",
    "import requests\n",
    "\n",
    "from dotenv import load_dotenv\n",
    "load_dotenv()"
   ]
  },
  {
   "cell_type": "code",
   "execution_count": 7,
   "id": "9d5453a1",
   "metadata": {},
   "outputs": [],
   "source": [
    "# Tool create\n",
    "\n",
    "@tool\n",
    "def multiply(a:int, b:int) -> int:\n",
    "    \"\"\"Given Two numbers a and b this tool returns product\"\"\"\n",
    "    return a*b"
   ]
  },
  {
   "cell_type": "code",
   "execution_count": 8,
   "id": "dea22ad0",
   "metadata": {},
   "outputs": [],
   "source": [
    "# Tool Binding\n",
    "llm = ChatOpenAI()"
   ]
  },
  {
   "cell_type": "code",
   "execution_count": 9,
   "id": "40381942",
   "metadata": {},
   "outputs": [],
   "source": [
    "llm_with_tools = llm.bind_tools([multiply])"
   ]
  },
  {
   "cell_type": "markdown",
   "id": "f8b435cf",
   "metadata": {},
   "source": [
    "# Tool Calling\n",
    "\n",
    "Tool calling is the process where the LLM decides, during a conversation or task, taht it needs to use a specific tool (function) - and generates a structured output with:\n",
    " \n",
    " - the name of tool\n",
    " - and the argumants to call it with\n",
    "\n",
    "The LLM doesn't run the tool - it just suggest the tool and the input argumants. The actual execution is handled by the Langchain or you "
   ]
  },
  {
   "cell_type": "code",
   "execution_count": 10,
   "id": "dcb72d0c",
   "metadata": {},
   "outputs": [
    {
     "data": {
      "text/plain": [
       "\"Hello! I'm here and ready to assist you. How can I help you today?\""
      ]
     },
     "execution_count": 10,
     "metadata": {},
     "output_type": "execute_result"
    }
   ],
   "source": [
    "llm_with_tools.invoke(\"Hi how are you\").content"
   ]
  },
  {
   "cell_type": "code",
   "execution_count": 11,
   "id": "87464c60",
   "metadata": {},
   "outputs": [],
   "source": [
    "result = llm_with_tools.invoke(\"can you multiple 3 with 10\")"
   ]
  },
  {
   "cell_type": "code",
   "execution_count": 12,
   "id": "fb6bfeb3",
   "metadata": {},
   "outputs": [
    {
     "name": "stdout",
     "output_type": "stream",
     "text": [
      "AIMessage(content='', additional_kwargs={'tool_calls': [{'id': 'call_4ScgPVnv14ZkGq9egJ6ACyY5', 'function': {'arguments': '{\"a\":3,\"b\":10}', 'name': 'multiply'}, 'type': 'function'}], 'refusal': None}, response_metadata={'token_usage': {'completion_tokens': 18, 'prompt_tokens': 60, 'total_tokens': 78, 'completion_tokens_details': {'accepted_prediction_tokens': 0, 'audio_tokens': 0, 'reasoning_tokens': 0, 'rejected_prediction_tokens': 0}, 'prompt_tokens_details': {'audio_tokens': 0, 'cached_tokens': 0}}, 'model_name': 'gpt-3.5-turbo-0125', 'system_fingerprint': None, 'id': 'chatcmpl-BSOj9MtyFmmIWZp3S6NlyjWpazYrI', 'finish_reason': 'tool_calls', 'logprobs': None}, id='run-cdfe8f19-aebd-458b-b42b-83c1c7f4ecf2-0', tool_calls=[{'name': 'multiply', 'args': {'a': 3, 'b': 10}, 'id': 'call_4ScgPVnv14ZkGq9egJ6ACyY5', 'type': 'tool_call'}], usage_metadata={'input_tokens': 60, 'output_tokens': 18, 'total_tokens': 78, 'input_token_details': {'audio': 0, 'cache_read': 0}, 'output_token_details': {'audio': 0, 'reasoning': 0}})\n"
     ]
    }
   ],
   "source": [
    "from pprint import pprint\n",
    "pprint(result)"
   ]
  },
  {
   "cell_type": "markdown",
   "id": "11f35f73",
   "metadata": {},
   "source": [
    "Now you Notice the above results you'll notice that ``content`` is empty, but in ``additional_kwargs`` we got a new property named ``tool_calls``\n",
    "\n",
    "Another important thing to note here is that, even though LLM has mentioned the tool we bind with it, it really doesn't executes it and give reults from it. That's because LLM doesn't really executes the tool, **the tool must be called by Langcahin or you**"
   ]
  },
  {
   "cell_type": "markdown",
   "id": "4ec16a69",
   "metadata": {},
   "source": [
    "# Tool Excecution\n",
    "\n",
    "Tool Execution is the step where where the actual python function (tool) i srun using the input argumnets that the LLM suggested during tool calling\n",
    "\n",
    "In simppler words:\n",
    " 🧠 The LLM says:\n",
    " \n",
    "  - \"Hey, call the ``multiply`` tool with a=8 and b=7\"\n",
    "\n",
    "  ⚙️ **Tool Execution** is when you or Langchain actually run :\n",
    "  \n",
    "  - `multiply(a=8, b=7)` \n",
    "    \n",
    "    and get the results : 56\n"
   ]
  },
  {
   "cell_type": "code",
   "execution_count": 13,
   "id": "98021e3c",
   "metadata": {},
   "outputs": [],
   "source": [
    "results = llm_with_tools.invoke('Can you multply 3 and 10')"
   ]
  },
  {
   "cell_type": "code",
   "execution_count": 14,
   "id": "5ebc6a99",
   "metadata": {},
   "outputs": [
    {
     "name": "stdout",
     "output_type": "stream",
     "text": [
      "AIMessage(content='', additional_kwargs={'tool_calls': [{'id': 'call_Qv2R1WBUezPePqdJ4vbbqexk', 'function': {'arguments': '{\"a\": 3, \"b\": 10}', 'name': 'multiply'}, 'type': 'function'}], 'refusal': None}, response_metadata={'token_usage': {'completion_tokens': 33, 'prompt_tokens': 61, 'total_tokens': 94, 'completion_tokens_details': {'accepted_prediction_tokens': 0, 'audio_tokens': 0, 'reasoning_tokens': 0, 'rejected_prediction_tokens': 0}, 'prompt_tokens_details': {'audio_tokens': 0, 'cached_tokens': 0}}, 'model_name': 'gpt-3.5-turbo-0125', 'system_fingerprint': None, 'id': 'chatcmpl-BSOjAmnJ67ZXwxSRIti0oHt9mBxwZ', 'finish_reason': 'tool_calls', 'logprobs': None}, id='run-704c2bb0-44b1-4f07-af52-cba04f1c0f1d-0', tool_calls=[{'name': 'multiply', 'args': {'a': 3, 'b': 10}, 'id': 'call_Qv2R1WBUezPePqdJ4vbbqexk', 'type': 'tool_call'}], usage_metadata={'input_tokens': 61, 'output_tokens': 33, 'total_tokens': 94, 'input_token_details': {'audio': 0, 'cache_read': 0}, 'output_token_details': {'audio': 0, 'reasoning': 0}})\n"
     ]
    }
   ],
   "source": [
    "pprint(results)"
   ]
  },
  {
   "cell_type": "code",
   "execution_count": 15,
   "id": "d01b1e25",
   "metadata": {},
   "outputs": [
    {
     "data": {
      "text/plain": [
       "{'name': 'multiply',\n",
       " 'args': {'a': 3, 'b': 10},\n",
       " 'id': 'call_Qv2R1WBUezPePqdJ4vbbqexk',\n",
       " 'type': 'tool_call'}"
      ]
     },
     "execution_count": 15,
     "metadata": {},
     "output_type": "execute_result"
    }
   ],
   "source": [
    "results.tool_calls[0]"
   ]
  },
  {
   "cell_type": "code",
   "execution_count": 16,
   "id": "e5320831",
   "metadata": {},
   "outputs": [
    {
     "data": {
      "text/plain": [
       "ToolMessage(content='30', name='multiply', tool_call_id='call_Qv2R1WBUezPePqdJ4vbbqexk')"
      ]
     },
     "execution_count": 16,
     "metadata": {},
     "output_type": "execute_result"
    }
   ],
   "source": [
    "multiply.invoke(results.tool_calls[0])"
   ]
  },
  {
   "cell_type": "markdown",
   "id": "7ee06aaa",
   "metadata": {},
   "source": [
    "These were the individual components, lets build a complete pipeline"
   ]
  },
  {
   "cell_type": "code",
   "execution_count": 17,
   "id": "45f2fa15",
   "metadata": {},
   "outputs": [],
   "source": [
    "# Build LLM\n",
    "llm = ChatOpenAI()\n",
    "\n",
    "# Bind Tool with LLM\n",
    "llm_with_tools = llm.bind_tools([multiply])"
   ]
  },
  {
   "cell_type": "code",
   "execution_count": 18,
   "id": "f223e651",
   "metadata": {},
   "outputs": [],
   "source": [
    "query = HumanMessage('Can you multiply 3 with 10')\n",
    "messages = [query]"
   ]
  },
  {
   "cell_type": "code",
   "execution_count": 19,
   "id": "a22d0938",
   "metadata": {},
   "outputs": [
    {
     "data": {
      "text/plain": [
       "AIMessage(content='', additional_kwargs={'tool_calls': [{'id': 'call_wdSsWAHD20BXbvLBOOddOCVM', 'function': {'arguments': '{\"a\":3,\"b\":10}', 'name': 'multiply'}, 'type': 'function'}], 'refusal': None}, response_metadata={'token_usage': {'completion_tokens': 18, 'prompt_tokens': 60, 'total_tokens': 78, 'completion_tokens_details': {'accepted_prediction_tokens': 0, 'audio_tokens': 0, 'reasoning_tokens': 0, 'rejected_prediction_tokens': 0}, 'prompt_tokens_details': {'audio_tokens': 0, 'cached_tokens': 0}}, 'model_name': 'gpt-3.5-turbo-0125', 'system_fingerprint': None, 'id': 'chatcmpl-BSOjCQ0jGlq6ZEywQ0IXbFBbm9cvH', 'finish_reason': 'tool_calls', 'logprobs': None}, id='run-ebcb1295-dce1-41dc-bcca-c8f2a8752685-0', tool_calls=[{'name': 'multiply', 'args': {'a': 3, 'b': 10}, 'id': 'call_wdSsWAHD20BXbvLBOOddOCVM', 'type': 'tool_call'}], usage_metadata={'input_tokens': 60, 'output_tokens': 18, 'total_tokens': 78, 'input_token_details': {'audio': 0, 'cache_read': 0}, 'output_token_details': {'audio': 0, 'reasoning': 0}})"
      ]
     },
     "execution_count": 19,
     "metadata": {},
     "output_type": "execute_result"
    }
   ],
   "source": [
    "result = llm_with_tools.invoke(messages)\n",
    "result"
   ]
  },
  {
   "cell_type": "markdown",
   "id": "8e9971ed",
   "metadata": {},
   "source": [
    "Append this ``AIMessage`` to messages array"
   ]
  },
  {
   "cell_type": "code",
   "execution_count": 20,
   "id": "fe6d9b15",
   "metadata": {},
   "outputs": [
    {
     "data": {
      "text/plain": [
       "[HumanMessage(content='Can you multiply 3 with 10', additional_kwargs={}, response_metadata={}),\n",
       " AIMessage(content='', additional_kwargs={'tool_calls': [{'id': 'call_wdSsWAHD20BXbvLBOOddOCVM', 'function': {'arguments': '{\"a\":3,\"b\":10}', 'name': 'multiply'}, 'type': 'function'}], 'refusal': None}, response_metadata={'token_usage': {'completion_tokens': 18, 'prompt_tokens': 60, 'total_tokens': 78, 'completion_tokens_details': {'accepted_prediction_tokens': 0, 'audio_tokens': 0, 'reasoning_tokens': 0, 'rejected_prediction_tokens': 0}, 'prompt_tokens_details': {'audio_tokens': 0, 'cached_tokens': 0}}, 'model_name': 'gpt-3.5-turbo-0125', 'system_fingerprint': None, 'id': 'chatcmpl-BSOjCQ0jGlq6ZEywQ0IXbFBbm9cvH', 'finish_reason': 'tool_calls', 'logprobs': None}, id='run-ebcb1295-dce1-41dc-bcca-c8f2a8752685-0', tool_calls=[{'name': 'multiply', 'args': {'a': 3, 'b': 10}, 'id': 'call_wdSsWAHD20BXbvLBOOddOCVM', 'type': 'tool_call'}], usage_metadata={'input_tokens': 60, 'output_tokens': 18, 'total_tokens': 78, 'input_token_details': {'audio': 0, 'cache_read': 0}, 'output_token_details': {'audio': 0, 'reasoning': 0}})]"
      ]
     },
     "execution_count": 20,
     "metadata": {},
     "output_type": "execute_result"
    }
   ],
   "source": [
    "messages.append(result)\n",
    "messages"
   ]
  },
  {
   "cell_type": "code",
   "execution_count": 21,
   "id": "8e22dedd",
   "metadata": {},
   "outputs": [
    {
     "data": {
      "text/plain": [
       "ToolMessage(content='30', name='multiply', tool_call_id='call_wdSsWAHD20BXbvLBOOddOCVM')"
      ]
     },
     "execution_count": 21,
     "metadata": {},
     "output_type": "execute_result"
    }
   ],
   "source": [
    "tool_result = multiply.invoke(result.tool_calls[0])\n",
    "tool_result"
   ]
  },
  {
   "cell_type": "markdown",
   "id": "a211cf3d",
   "metadata": {},
   "source": [
    "Append this ``ToolMessage`` to the messages array"
   ]
  },
  {
   "cell_type": "code",
   "execution_count": 22,
   "id": "efd2dc46",
   "metadata": {},
   "outputs": [
    {
     "data": {
      "text/plain": [
       "[HumanMessage(content='Can you multiply 3 with 10', additional_kwargs={}, response_metadata={}),\n",
       " AIMessage(content='', additional_kwargs={'tool_calls': [{'id': 'call_wdSsWAHD20BXbvLBOOddOCVM', 'function': {'arguments': '{\"a\":3,\"b\":10}', 'name': 'multiply'}, 'type': 'function'}], 'refusal': None}, response_metadata={'token_usage': {'completion_tokens': 18, 'prompt_tokens': 60, 'total_tokens': 78, 'completion_tokens_details': {'accepted_prediction_tokens': 0, 'audio_tokens': 0, 'reasoning_tokens': 0, 'rejected_prediction_tokens': 0}, 'prompt_tokens_details': {'audio_tokens': 0, 'cached_tokens': 0}}, 'model_name': 'gpt-3.5-turbo-0125', 'system_fingerprint': None, 'id': 'chatcmpl-BSOjCQ0jGlq6ZEywQ0IXbFBbm9cvH', 'finish_reason': 'tool_calls', 'logprobs': None}, id='run-ebcb1295-dce1-41dc-bcca-c8f2a8752685-0', tool_calls=[{'name': 'multiply', 'args': {'a': 3, 'b': 10}, 'id': 'call_wdSsWAHD20BXbvLBOOddOCVM', 'type': 'tool_call'}], usage_metadata={'input_tokens': 60, 'output_tokens': 18, 'total_tokens': 78, 'input_token_details': {'audio': 0, 'cache_read': 0}, 'output_token_details': {'audio': 0, 'reasoning': 0}}),\n",
       " ToolMessage(content='30', name='multiply', tool_call_id='call_wdSsWAHD20BXbvLBOOddOCVM')]"
      ]
     },
     "execution_count": 22,
     "metadata": {},
     "output_type": "execute_result"
    }
   ],
   "source": [
    "messages.append(tool_result)\n",
    "messages"
   ]
  },
  {
   "cell_type": "markdown",
   "id": "b9b32b07",
   "metadata": {},
   "source": [
    "You can very well understand what we are doing here. We are actually **maintaining the history of our conversations**, as we usually do.\n",
    "\n",
    "Now lets again call our llm, and this time we'll pass our conversation history(messages array) to model "
   ]
  },
  {
   "cell_type": "code",
   "execution_count": 23,
   "id": "355f0101",
   "metadata": {},
   "outputs": [],
   "source": [
    "_result = llm_with_tools.invoke(messages)"
   ]
  },
  {
   "cell_type": "code",
   "execution_count": 24,
   "id": "e73c9c46",
   "metadata": {},
   "outputs": [
    {
     "data": {
      "text/plain": [
       "AIMessage(content='The product of 3 and 10 is 30.', additional_kwargs={'refusal': None}, response_metadata={'token_usage': {'completion_tokens': 14, 'prompt_tokens': 85, 'total_tokens': 99, 'completion_tokens_details': {'accepted_prediction_tokens': 0, 'audio_tokens': 0, 'reasoning_tokens': 0, 'rejected_prediction_tokens': 0}, 'prompt_tokens_details': {'audio_tokens': 0, 'cached_tokens': 0}}, 'model_name': 'gpt-3.5-turbo-0125', 'system_fingerprint': None, 'id': 'chatcmpl-BSOjDuzIO9a0nt67fpu2u6y48KDdQ', 'finish_reason': 'stop', 'logprobs': None}, id='run-af803e20-fd3b-495f-94e3-046b94074a2b-0', usage_metadata={'input_tokens': 85, 'output_tokens': 14, 'total_tokens': 99, 'input_token_details': {'audio': 0, 'cache_read': 0}, 'output_token_details': {'audio': 0, 'reasoning': 0}})"
      ]
     },
     "execution_count": 24,
     "metadata": {},
     "output_type": "execute_result"
    }
   ],
   "source": [
    "_result"
   ]
  },
  {
   "cell_type": "code",
   "execution_count": 25,
   "id": "31062231",
   "metadata": {},
   "outputs": [
    {
     "data": {
      "text/plain": [
       "'The product of 3 and 10 is 30.'"
      ]
     },
     "execution_count": 25,
     "metadata": {},
     "output_type": "execute_result"
    }
   ],
   "source": [
    "_result.content "
   ]
  },
  {
   "cell_type": "markdown",
   "id": "7cb30efc",
   "metadata": {},
   "source": [
    "### Drumroll Please!\n",
    "\n",
    "This is our first tool calling. Now you can ask thi smodl any query and it will use our tool."
   ]
  },
  {
   "cell_type": "markdown",
   "id": "05052c13",
   "metadata": {},
   "source": []
  },
  {
   "cell_type": "markdown",
   "id": "e6d14cac",
   "metadata": {},
   "source": [
    "# Currency Conversion Tool\n",
    "\n",
    "We'll build a currency conversion tool. Where our main motive is to get the current rates of Pakistani Currency using the the ExcahgeRate API."
   ]
  },
  {
   "cell_type": "code",
   "execution_count": 26,
   "id": "3845c226",
   "metadata": {},
   "outputs": [],
   "source": [
    "#  Tool create\n",
    "\n",
    "\n",
    "@tool\n",
    "def get_conversion_factor(base_currency: str, target_currency: str) -> float:\n",
    "    \"\"\"\n",
    "    This function fetches the currency conversion factor between a given base currency and a target currency.\n",
    "    \"\"\"\n",
    "    url = f\"https://v6.exchangerate-api.com/v6/13c68535f9d92af500b7a7ef/pair/{base_currency}/{target_currency}\"\n",
    "    response = requests.get(url)\n",
    "    return response.json()\n",
    "\n",
    "\n",
    "@tool\n",
    "def convert(base_currency: int, conversion_rate: float) -> float:\n",
    "    \"\"\"\n",
    "    Given a currency conversion rate this function calcaulate the target currency value from a given base currency value\n",
    "    \"\"\"\n",
    "    return base_currency * conversion_rate"
   ]
  },
  {
   "cell_type": "code",
   "execution_count": 27,
   "id": "fa14bc02",
   "metadata": {},
   "outputs": [],
   "source": [
    "# create LLM\n",
    "\n",
    "llm = ChatOpenAI()\n",
    "\n",
    "# bind the tools\n",
    "llm_with_tools = llm.bind_tools([get_conversion_factor, convert])"
   ]
  },
  {
   "cell_type": "code",
   "execution_count": 28,
   "id": "26902468",
   "metadata": {},
   "outputs": [],
   "source": [
    "question = HumanMessage(\"What is the conversion factor between USD and PKR, and based on that can you convert 10 usd to PKR\")"
   ]
  },
  {
   "cell_type": "code",
   "execution_count": 29,
   "id": "97b227fd",
   "metadata": {},
   "outputs": [],
   "source": [
    "messages = []\n",
    "messages.append(question)"
   ]
  },
  {
   "cell_type": "code",
   "execution_count": 30,
   "id": "936a3c23",
   "metadata": {},
   "outputs": [],
   "source": [
    "ai_message = llm_with_tools.invoke(messages)"
   ]
  },
  {
   "cell_type": "code",
   "execution_count": 31,
   "id": "db4f4450",
   "metadata": {},
   "outputs": [
    {
     "data": {
      "text/plain": [
       "[{'name': 'get_conversion_factor',\n",
       "  'args': {'base_currency': 'USD', 'target_currency': 'PKR'},\n",
       "  'id': 'call_FauWXP31BZpkt9f7a7Ieh7Lt',\n",
       "  'type': 'tool_call'},\n",
       " {'name': 'convert',\n",
       "  'args': {'base_currency': 10, 'conversion_rate': 160},\n",
       "  'id': 'call_qd6BPHBL1EGMVKk6ATU7Veqg',\n",
       "  'type': 'tool_call'}]"
      ]
     },
     "execution_count": 31,
     "metadata": {},
     "output_type": "execute_result"
    }
   ],
   "source": [
    "ai_message.tool_calls"
   ]
  },
  {
   "cell_type": "markdown",
   "id": "f2926d40",
   "metadata": {},
   "source": [
    "As you can see from these reults, this time, two tools have been called.\n",
    "\n",
    "But observe this Keenly, and you'll ntice some anomly here in the second tool. The LLM has called the second tool with some old values, instead of values from ``get_conversion_factor`` tool.\n",
    "\n",
    "### Why does this happened?\n",
    "\n",
    "The issue arises because the LLM does not automatically chain the outputs of one tool to the inputs of another. In our case:\n",
    "\n",
    "The LLM called the get_conversion_factor tool to fetch the conversion rate between USD and PKR.\n",
    "However, when calling the convert tool, it used an old or hardcoded conversion rate (162.7) instead of dynamically using the output from the get_conversion_factor tool.\n",
    "This happens because the LLM does not have the capability to execute tools or manage dependencies between tool outputs and inputs. It only suggests tool calls based on its training and context.\n",
    "\n",
    "Why this happened:\n",
    " - Lack of state management: The LLM does not maintain a state or memory of the output from the first tool call (get_conversion_factor) to use it as input for the second tool call (convert).\n",
    "Static reasoning: The LLM generates tool calls independently, based on the prompt and context, without dynamically linking the tools' outputs and inputs.\n",
    "\n",
    "\n",
    "So, now we will rewrite our tools, where the `conversion_rate` in second argument will depend on the the output of first value "
   ]
  },
  {
   "cell_type": "code",
   "execution_count": 49,
   "id": "068ab7a1",
   "metadata": {},
   "outputs": [],
   "source": [
    "#  Tool create\n",
    "from typing import Annotated\n",
    "from langchain_core.tools import InjectedToolArg\n",
    "\n",
    "@tool\n",
    "def sec_get_conversion_factor(base_currency: str, target_currency: str) -> float:\n",
    "    \"\"\"\n",
    "    This function fetches the currency conversion factor between a given base currency and a target currency.\n",
    "    \"\"\"\n",
    "    url = f\"https://v6.exchangerate-api.com/v6/13c68535f9d92af500b7a7ef/pair/{base_currency}/{target_currency}\"\n",
    "    response = requests.get(url)\n",
    "    return response.json()\n",
    "\n",
    "\n",
    "@tool\n",
    "def sec_convert(base_currency: int, conversion_rate: Annotated[float, InjectedToolArg]) -> float:\n",
    "    \"\"\"\n",
    "    Given a currency conversion rate this function calcaulate the target currency value from a given base currency value\n",
    "    \"\"\"\n",
    "    return base_currency * conversion_rate"
   ]
  },
  {
   "cell_type": "markdown",
   "id": "b3c48413",
   "metadata": {},
   "source": [
    "# Understanding `InjectedToolArg` in LangChain\n",
    "\n",
    "The `InjectedToolArg` annotation is a special feature in LangChain that helps solve the tool chaining problem we encountered earlier. Here's how it works:\n",
    "\n",
    "### Purpose\n",
    "- It tells LangChain that the `conversion_rate` parameter should be automatically filled with a value from a previous tool's output\n",
    "- This creates an automatic dependency between tools, allowing them to pass data between each other\n",
    "\n",
    "### Syntax Breakdown\n"
   ]
  },
  {
   "cell_type": "code",
   "execution_count": 33,
   "id": "c47d6010",
   "metadata": {},
   "outputs": [],
   "source": [
    "conversion_rate: Annotated[float, InjectedToolArg]"
   ]
  },
  {
   "cell_type": "markdown",
   "id": "b29c11da",
   "metadata": {},
   "source": [
    "- `Annotated`: A Python type hint that allows adding metadata to type annotations\n",
    "- `float`: The expected type of the parameter\n",
    "- `InjectedToolArg`: Indicates this argument should be automatically injected from another tool's output\n",
    "\n",
    "### How it Works\n",
    "1. When the first tool (`get_conversion_factor`) is called, it returns conversion data\n",
    "2. LangChain automatically extracts the relevant value from that response\n",
    "3. When calling the `convert` tool, LangChain automatically injects the extracted value into the `conversion_rate` parameter\n",
    "\n",
    "### Benefits\n",
    "- Eliminates the need for manual tool output handling\n",
    "- Prevents the LLM from using hardcoded/outdated values\n",
    "- Creates a more reliable tool chain where data flows automatically between tools\n"
   ]
  },
  {
   "cell_type": "markdown",
   "id": "5fd7fd05",
   "metadata": {},
   "source": [
    "\n",
    "\n",
    "This is much more reliable than the previous version where the LLM was trying to guess or use hardcoded conversion rates."
   ]
  },
  {
   "cell_type": "code",
   "execution_count": 57,
   "id": "6b58a91c",
   "metadata": {},
   "outputs": [],
   "source": [
    "sec_llm = ChatOpenAI()\n",
    "sec_llm_with_tools = sec_llm.bind_tools([sec_get_conversion_factor, sec_convert])"
   ]
  },
  {
   "cell_type": "code",
   "execution_count": 59,
   "id": "94c0b7a5",
   "metadata": {},
   "outputs": [],
   "source": [
    "messages = []\n",
    "sec_human_message = HumanMessage(\"What is the conversion factor between USD and PKR, and based on that can you convert 10 usd to PKR\")\n",
    "messages.append(sec_human_message)"
   ]
  },
  {
   "cell_type": "code",
   "execution_count": 60,
   "id": "0dd9ec9e",
   "metadata": {},
   "outputs": [],
   "source": [
    "sec_ai_message = sec_llm_with_tools.invoke(messages)"
   ]
  },
  {
   "cell_type": "code",
   "execution_count": 61,
   "id": "6aa3d006",
   "metadata": {},
   "outputs": [],
   "source": [
    "messages.append(sec_ai_message)"
   ]
  },
  {
   "cell_type": "code",
   "execution_count": 62,
   "id": "f2434b2c",
   "metadata": {},
   "outputs": [
    {
     "data": {
      "text/plain": [
       "[{'name': 'sec_get_conversion_factor',\n",
       "  'args': {'base_currency': 'USD', 'target_currency': 'PKR'},\n",
       "  'id': 'call_ypobxJPpxJauicB69gMxY8ug',\n",
       "  'type': 'tool_call'},\n",
       " {'name': 'sec_convert',\n",
       "  'args': {'base_currency': 10},\n",
       "  'id': 'call_jFXMAybhl8m7JYJ1D22OG0d9',\n",
       "  'type': 'tool_call'}]"
      ]
     },
     "execution_count": 62,
     "metadata": {},
     "output_type": "execute_result"
    }
   ],
   "source": [
    "sec_ai_message.tool_calls"
   ]
  },
  {
   "cell_type": "code",
   "execution_count": 63,
   "id": "408440da",
   "metadata": {},
   "outputs": [],
   "source": [
    "import json\n",
    "for tool_call in sec_ai_message.tool_calls:\n",
    "\n",
    "    # Execute the first tool and get the value of conversion rate\n",
    "    if tool_call['name'] == \"sec_get_conversion_factor\":\n",
    "        tool_message_1 = sec_get_conversion_factor.invoke(tool_call)\n",
    "\n",
    "        #Fetch the conversion rate\n",
    "        conversion_rate = json.loads(tool_message_1.content)['conversion_rate']\n",
    "        \n",
    "        # Append this tool message to message list\n",
    "        messages.append(tool_message_1)\n",
    "        \n",
    "    # Execute the second tool using the conversion rate from tool 1\n",
    "    if tool_call['name'] =='sec_convert':\n",
    "        \n",
    "        #fetch the current arg\n",
    "        tool_call['args']['conversion_rate'] = conversion_rate\n",
    "        tool_message_2 = convert.invoke(tool_call)\n",
    "        messages.append(tool_message_2)"
   ]
  },
  {
   "cell_type": "code",
   "execution_count": 64,
   "id": "252f371a",
   "metadata": {},
   "outputs": [
    {
     "data": {
      "text/plain": [
       "[HumanMessage(content='What is the conversion factor between USD and PKR, and based on that can you convert 10 usd to PKR', additional_kwargs={}, response_metadata={}),\n",
       " AIMessage(content='', additional_kwargs={'tool_calls': [{'id': 'call_ypobxJPpxJauicB69gMxY8ug', 'function': {'arguments': '{\"base_currency\": \"USD\", \"target_currency\": \"PKR\"}', 'name': 'sec_get_conversion_factor'}, 'type': 'function'}, {'id': 'call_jFXMAybhl8m7JYJ1D22OG0d9', 'function': {'arguments': '{\"base_currency\": 10}', 'name': 'sec_convert'}, 'type': 'function'}], 'refusal': None}, response_metadata={'token_usage': {'completion_tokens': 54, 'prompt_tokens': 126, 'total_tokens': 180, 'completion_tokens_details': {'accepted_prediction_tokens': 0, 'audio_tokens': 0, 'reasoning_tokens': 0, 'rejected_prediction_tokens': 0}, 'prompt_tokens_details': {'audio_tokens': 0, 'cached_tokens': 0}}, 'model_name': 'gpt-3.5-turbo-0125', 'system_fingerprint': None, 'id': 'chatcmpl-BSP54bKYQuLtT49vUWRBkfoBg22FN', 'finish_reason': 'tool_calls', 'logprobs': None}, id='run-19581197-11af-4d55-a148-00830852ec02-0', tool_calls=[{'name': 'sec_get_conversion_factor', 'args': {'base_currency': 'USD', 'target_currency': 'PKR'}, 'id': 'call_ypobxJPpxJauicB69gMxY8ug', 'type': 'tool_call'}, {'name': 'sec_convert', 'args': {'base_currency': 10, 'conversion_rate': 280.9017}, 'id': 'call_jFXMAybhl8m7JYJ1D22OG0d9', 'type': 'tool_call'}], usage_metadata={'input_tokens': 126, 'output_tokens': 54, 'total_tokens': 180, 'input_token_details': {'audio': 0, 'cache_read': 0}, 'output_token_details': {'audio': 0, 'reasoning': 0}}),\n",
       " ToolMessage(content='{\"result\": \"success\", \"documentation\": \"https://www.exchangerate-api.com/docs\", \"terms_of_use\": \"https://www.exchangerate-api.com/terms\", \"time_last_update_unix\": 1746057601, \"time_last_update_utc\": \"Thu, 01 May 2025 00:00:01 +0000\", \"time_next_update_unix\": 1746144001, \"time_next_update_utc\": \"Fri, 02 May 2025 00:00:01 +0000\", \"base_code\": \"USD\", \"target_code\": \"PKR\", \"conversion_rate\": 280.9017}', name='sec_get_conversion_factor', tool_call_id='call_ypobxJPpxJauicB69gMxY8ug'),\n",
       " ToolMessage(content='2809.017', name='convert', tool_call_id='call_jFXMAybhl8m7JYJ1D22OG0d9')]"
      ]
     },
     "execution_count": 64,
     "metadata": {},
     "output_type": "execute_result"
    }
   ],
   "source": [
    "messages"
   ]
  },
  {
   "cell_type": "code",
   "execution_count": 66,
   "id": "023811f5",
   "metadata": {},
   "outputs": [
    {
     "data": {
      "text/plain": [
       "'The conversion factor between USD and PKR is 280.9017. \\n\\nBased on this conversion factor, 10 USD is equal to 2809.017 PKR.'"
      ]
     },
     "execution_count": 66,
     "metadata": {},
     "output_type": "execute_result"
    }
   ],
   "source": [
    "sec_llm_with_tools.invoke(messages).content"
   ]
  },
  {
   "cell_type": "code",
   "execution_count": null,
   "id": "84fc9a0d",
   "metadata": {},
   "outputs": [],
   "source": []
  }
 ],
 "metadata": {
  "kernelspec": {
   "display_name": ".venv",
   "language": "python",
   "name": "python3"
  },
  "language_info": {
   "codemirror_mode": {
    "name": "ipython",
    "version": 3
   },
   "file_extension": ".py",
   "mimetype": "text/x-python",
   "name": "python",
   "nbconvert_exporter": "python",
   "pygments_lexer": "ipython3",
   "version": "3.11.0"
  }
 },
 "nbformat": 4,
 "nbformat_minor": 5
}
