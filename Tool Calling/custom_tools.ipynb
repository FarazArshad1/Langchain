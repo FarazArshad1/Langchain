{
 "cells": [
  {
   "cell_type": "code",
   "execution_count": 1,
   "id": "94e57016",
   "metadata": {},
   "outputs": [],
   "source": [
    "from langchain_core.tools import tool"
   ]
  },
  {
   "cell_type": "code",
   "execution_count": null,
   "id": "08e5894d",
   "metadata": {},
   "outputs": [],
   "source": [
    "# Step 1 : Define The function\n",
    "\n",
    "def multiply(a, b):\n",
    "    \"\"\"\n",
    "    Multiplies two numbers.\n",
    "    \"\"\"\n",
    "    return a * b"
   ]
  },
  {
   "cell_type": "code",
   "execution_count": 3,
   "id": "86e103d3",
   "metadata": {},
   "outputs": [],
   "source": [
    "# Step 2 : add type hints\n",
    "\n",
    "def multiply(a:int, b:int) -> int:\n",
    "    \"\"\"\n",
    "    Multiplies two numbers.\n",
    "    \"\"\"\n",
    "    return a * b"
   ]
  },
  {
   "cell_type": "code",
   "execution_count": 4,
   "id": "629ba07d",
   "metadata": {},
   "outputs": [],
   "source": [
    "# Step 3 : add tool decorator\n",
    "\n",
    "@tool\n",
    "def multiply(a:int, b:int) -> int:\n",
    "    \"\"\"\n",
    "    Multiplies two numbers.\n",
    "    \"\"\"\n",
    "    return a * b"
   ]
  },
  {
   "cell_type": "code",
   "execution_count": 5,
   "id": "17a5fe26",
   "metadata": {},
   "outputs": [
    {
     "name": "stdout",
     "output_type": "stream",
     "text": [
      "15\n"
     ]
    }
   ],
   "source": [
    "result = multiply.invoke({\"a\" : 3, \"b\":5})\n",
    "print(result)"
   ]
  },
  {
   "cell_type": "code",
   "execution_count": 6,
   "id": "c8f6f9ae",
   "metadata": {},
   "outputs": [
    {
     "name": "stdout",
     "output_type": "stream",
     "text": [
      "multiply\n",
      "Multiplies two numbers.\n",
      "{'a': {'title': 'A', 'type': 'integer'}, 'b': {'title': 'B', 'type': 'integer'}}\n"
     ]
    }
   ],
   "source": [
    "print(multiply.name)\n",
    "print(multiply.description)\n",
    "print(multiply.args)"
   ]
  },
  {
   "cell_type": "markdown",
   "id": "b7892541",
   "metadata": {},
   "source": [
    "Whenever we use the tool, we don't send the tool(or function) to LLM, rather we send this schema."
   ]
  },
  {
   "cell_type": "code",
   "execution_count": 7,
   "id": "605ccd6b",
   "metadata": {},
   "outputs": [
    {
     "name": "stdout",
     "output_type": "stream",
     "text": [
      "{'description': 'Multiplies two numbers.', 'properties': {'a': {'title': 'A', 'type': 'integer'}, 'b': {'title': 'B', 'type': 'integer'}}, 'required': ['a', 'b'], 'title': 'multiply', 'type': 'object'}\n"
     ]
    }
   ],
   "source": [
    "print(multiply.args_schema.model_json_schema())"
   ]
  },
  {
   "cell_type": "markdown",
   "id": "c3360f90",
   "metadata": {},
   "source": [
    "# Method Two : Using Structured Tool\n",
    "\n",
    "A **Structured tool** in Lagcahin is a special type of tool where the input to the tool follows a structured schema, typically defined using a Pydantic model."
   ]
  },
  {
   "cell_type": "code",
   "execution_count": 8,
   "id": "8fa3fea1",
   "metadata": {},
   "outputs": [],
   "source": [
    "from langchain.tools import StructuredTool\n",
    "from pydantic import BaseModel, Field"
   ]
  },
  {
   "cell_type": "code",
   "execution_count": 9,
   "id": "5fdf7c0a",
   "metadata": {},
   "outputs": [],
   "source": [
    "class MultiplyInput(BaseModel):\n",
    "    a : int = Field(required=True, description=\"The first number to add\")\n",
    "    b : int = Field(required=True, description=\"The Second number to add\") "
   ]
  },
  {
   "cell_type": "code",
   "execution_count": 11,
   "id": "e8a1291e",
   "metadata": {},
   "outputs": [],
   "source": [
    "def multiply_func(a:int, b:int)->int:\n",
    "    return a*b"
   ]
  },
  {
   "cell_type": "code",
   "execution_count": 12,
   "id": "82c40d99",
   "metadata": {},
   "outputs": [],
   "source": [
    "multiply_tool = StructuredTool.from_function(\n",
    "    func = multiply_func,\n",
    "    name = \"multiply\",\n",
    "    description= \"Multiply Two numbers\",\n",
    "    args_schema=MultiplyInput\n",
    ")"
   ]
  },
  {
   "cell_type": "code",
   "execution_count": 13,
   "id": "f032deb8",
   "metadata": {},
   "outputs": [
    {
     "name": "stdout",
     "output_type": "stream",
     "text": [
      "12\n"
     ]
    }
   ],
   "source": [
    "result = multiply_tool.invoke({\"a\":3, \"b\":4})\n",
    "\n",
    "print(result)"
   ]
  },
  {
   "cell_type": "code",
   "execution_count": 15,
   "id": "64020a58",
   "metadata": {},
   "outputs": [
    {
     "name": "stdout",
     "output_type": "stream",
     "text": [
      "multiply\n",
      "Multiply Two numbers\n",
      "{'a': {'description': 'The first number to add', 'required': True, 'title': 'A', 'type': 'integer'}, 'b': {'description': 'The Second number to add', 'required': True, 'title': 'B', 'type': 'integer'}}\n"
     ]
    }
   ],
   "source": [
    "print(multiply_tool.name)\n",
    "print(multiply_tool.description)\n",
    "print(multiply_tool.args)"
   ]
  },
  {
   "cell_type": "markdown",
   "id": "cab28fb2",
   "metadata": {},
   "source": [
    "# Method Three : Using BaseTool\n",
    "\n",
    "**BaseTool** is the abstract base class for all tools in LangChain. It defines the core structure and interface that ny tool must follow, whether it's a simple one-liner or a fully customized function.\n",
    "\n",
    " - All other tool types like ``@tool``,``StructuredTool`` are built on top of BaseTool"
   ]
  },
  {
   "cell_type": "code",
   "execution_count": 16,
   "id": "ee6d40c5",
   "metadata": {},
   "outputs": [],
   "source": [
    "from langchain.tools import BaseTool\n",
    "from typing import Type "
   ]
  },
  {
   "cell_type": "code",
   "execution_count": 17,
   "id": "bb0e4533",
   "metadata": {},
   "outputs": [],
   "source": [
    "# args schema using pydantic\n",
    "\n",
    "class MultiplyInput(BaseModel):\n",
    "    a: int = Field(required=True, description=\"The first number to add\")\n",
    "    b: int = Field(required=True, description=\"The Second number to add\")"
   ]
  },
  {
   "cell_type": "code",
   "execution_count": 18,
   "id": "3125e7d7",
   "metadata": {},
   "outputs": [],
   "source": [
    "class MultiplyTool(BaseTool):\n",
    "    name:str = \"multiply\"\n",
    "    description:str = \"Multiply Two numbers\"\n",
    "    args_schema : Type[BaseModel] = MultiplyInput\n",
    "    \n",
    "    def _run(self, a:int, b:int) -> int:\n",
    "        return a*b"
   ]
  },
  {
   "cell_type": "code",
   "execution_count": 19,
   "id": "f12d6613",
   "metadata": {},
   "outputs": [],
   "source": [
    "multiply_tool = MultiplyTool()"
   ]
  },
  {
   "cell_type": "code",
   "execution_count": 20,
   "id": "cf743de0",
   "metadata": {},
   "outputs": [
    {
     "name": "stdout",
     "output_type": "stream",
     "text": [
      "9\n"
     ]
    }
   ],
   "source": [
    "result = multiply_tool.invoke({'a':3, 'b':3})\n",
    "print(result)"
   ]
  },
  {
   "cell_type": "markdown",
   "id": "06b1cebc",
   "metadata": {},
   "source": [
    "# Toolkit\n",
    "\n",
    "A toolkit is just a collection (bundle) of related tools that serve a common purpose - packaged together for convenience and **reusability**.\n",
    "\n",
    "In LangChin a toolkit might be ``GoogleDriveToolKit``,and it might contain following tools:\n",
    " - ``GoogleDriveCreateFileTool`` : Upload a file\n",
    "\n",
    " - ``GoogleDriveSearchTool`` : Search for a file by name/content\n",
    " \n",
    " - ``GoogleDriveReadFileTool`` : Read content of a file"
   ]
  },
  {
   "cell_type": "markdown",
   "id": "b79d1266",
   "metadata": {},
   "source": [
    "Here we'll build a simple toolkit of math related things  "
   ]
  },
  {
   "cell_type": "code",
   "execution_count": 22,
   "id": "cbd51cbe",
   "metadata": {},
   "outputs": [],
   "source": [
    "from langchain.tools import tool\n",
    "\n",
    "# Custom tools\n",
    "@tool\n",
    "def add(a:int, b:int) -> int:\n",
    "    \"\"\"add two numbers\"\"\"\n",
    "    return a+b\n",
    "    \n",
    "    \n",
    "@tool\n",
    "def multiply(a:int, b:int) -> int:\n",
    "    \"\"\"multiply two numbers\"\"\"\n",
    "    return a*b"
   ]
  },
  {
   "cell_type": "code",
   "execution_count": 23,
   "id": "ddae5d85",
   "metadata": {},
   "outputs": [],
   "source": [
    "class MathToolKit:\n",
    "    def get_tools(self):\n",
    "        return [add, multiply]"
   ]
  },
  {
   "cell_type": "code",
   "execution_count": 24,
   "id": "15a8e304",
   "metadata": {},
   "outputs": [
    {
     "name": "stdout",
     "output_type": "stream",
     "text": [
      "add => add two numbers\n",
      "multiply => multiply two numbers\n"
     ]
    }
   ],
   "source": [
    "toolkit = MathToolKit()\n",
    "tools = toolkit.get_tools()\n",
    "\n",
    "for tool in tools:\n",
    "    print(tool.name, \"=>\", tool.description)"
   ]
  }
 ],
 "metadata": {
  "kernelspec": {
   "display_name": ".venv",
   "language": "python",
   "name": "python3"
  },
  "language_info": {
   "codemirror_mode": {
    "name": "ipython",
    "version": 3
   },
   "file_extension": ".py",
   "mimetype": "text/x-python",
   "name": "python",
   "nbconvert_exporter": "python",
   "pygments_lexer": "ipython3",
   "version": "3.11.0"
  }
 },
 "nbformat": 4,
 "nbformat_minor": 5
}
