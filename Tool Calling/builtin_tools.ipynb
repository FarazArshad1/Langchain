{
 "cells": [
  {
   "cell_type": "code",
   "execution_count": 6,
   "id": "5277d2dc",
   "metadata": {},
   "outputs": [],
   "source": [
    "from langchain_core.globals import set_verbose, set_debug\n",
    "\n",
    "# Disable verbose and debug logging by default\n",
    "set_verbose(False)\n",
    "set_debug(False)"
   ]
  },
  {
   "cell_type": "markdown",
   "id": "f4a7bb56",
   "metadata": {},
   "source": [
    "# DuckDuckGO Search Tool"
   ]
  },
  {
   "cell_type": "code",
   "execution_count": 1,
   "id": "4162f674",
   "metadata": {},
   "outputs": [
    {
     "name": "stdout",
     "output_type": "stream",
     "text": [
      "Stay on top of Pakistan latest developments on the ground with Al Jazeera's fact-based news, exclusive video footage, photos and updated maps. ... Killing of tourists in Indian-administered ... India, Pakistan feud after deadly Kashmir attack 03:32. New Delhi — A week after 26 people were killed in a terrorist attack in Indian-controlled Kashmir, concern was mounting over a possible ... Tensions between India and Pakistan have escalated further after a top Pakistani official claimed early Wednesday it has \"credible intelligence\" that New Delhi will carry out a military action ... Tentative schedule for Pakistan vs Bangladesh T20I series released. Updated 4 hours ago. Pakistan will host Bangladesh for a five-match T20I series starting 25 May, with games in Faisalabad and ... Indian paramilitary troopers stand guard at a market area in Srinagar on April 28, 2025. Indian and Pakistan soldiers exchanged gunfire in disputed Kashmir for a fourth night in a row, New Delhi's ...\n"
     ]
    }
   ],
   "source": [
    "from langchain_community.tools import DuckDuckGoSearchRun\n",
    "\n",
    "search_tool = DuckDuckGoSearchRun()\n",
    "\n",
    "results = search_tool.invoke('Top New in Pakistan Today')\n",
    "\n",
    "print(results)"
   ]
  },
  {
   "cell_type": "markdown",
   "id": "4ab6403d",
   "metadata": {},
   "source": [
    "# Shell Tool"
   ]
  },
  {
   "cell_type": "code",
   "execution_count": 9,
   "id": "3dd27bcb",
   "metadata": {},
   "outputs": [
    {
     "name": "stdout",
     "output_type": "stream",
     "text": [
      "Executing command:\n",
      " whoami\n",
      "faraz\\faraz\n",
      "\n"
     ]
    },
    {
     "name": "stderr",
     "output_type": "stream",
     "text": [
      "d:\\Learning\\GenAI\\Dev\\Langchain\\.venv\\Lib\\site-packages\\langchain_community\\tools\\shell\\tool.py:33: UserWarning: The shell tool has no safeguards by default. Use at your own risk.\n",
      "  warnings.warn(\n"
     ]
    }
   ],
   "source": [
    "from langchain_community.tools import ShellTool\n",
    "\n",
    "shell_tool = ShellTool()\n",
    "\n",
    "results = shell_tool.invoke('whoami')\n",
    "print(results)"
   ]
  }
 ],
 "metadata": {
  "kernelspec": {
   "display_name": ".venv",
   "language": "python",
   "name": "python3"
  },
  "language_info": {
   "codemirror_mode": {
    "name": "ipython",
    "version": 3
   },
   "file_extension": ".py",
   "mimetype": "text/x-python",
   "name": "python",
   "nbconvert_exporter": "python",
   "pygments_lexer": "ipython3",
   "version": "3.11.0"
  }
 },
 "nbformat": 4,
 "nbformat_minor": 5
}
