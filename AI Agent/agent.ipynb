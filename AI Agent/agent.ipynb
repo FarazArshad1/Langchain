{
 "cells": [
  {
   "cell_type": "markdown",
   "id": "db69b610",
   "metadata": {},
   "source": [
    "# AI Agent\n",
    "\n",
    "An AI agent is an intelligent system that recieves a high-level goal from a user, and autonomously plans, decides, and executes a sequence of actions by using external tools, APIs, or knowledgeable sources - all while maintaining context, reasoning over multiple steps, adapting to new information, and optimizing for the intended outcome.\n",
    "\n",
    "The characteristcs of an AI agent are:\n",
    " - **Goal Driven** : You tell agent what you want , not how to do it\n",
    " - **Autonomous planning** - Agent breaks down the problem and sequences task on its own\n",
    " - **Tool Using** - Agants calls APIs, calculators, search tools, etc.\n",
    " - **Context-Aware** - Maintains memory across steps to inform future actions\n",
    " - **Adaptive** - Rethinks plan when things change (e.g. API fails, no data)"
   ]
  },
  {
   "cell_type": "code",
   "execution_count": 1,
   "id": "5b8073f8",
   "metadata": {},
   "outputs": [],
   "source": [
    "import os\n",
    "import requests\n",
    "\n",
    "from langchain_openai import ChatOpenAI\n",
    "from langchain_core.tools import tool\n",
    "from langchain_community.tools import DuckDuckGoSearchRun"
   ]
  },
  {
   "cell_type": "code",
   "execution_count": 3,
   "id": "597b63fd",
   "metadata": {},
   "outputs": [],
   "source": [
    "search_tool = DuckDuckGoSearchRun()"
   ]
  },
  {
   "cell_type": "code",
   "execution_count": 5,
   "id": "660c1921",
   "metadata": {},
   "outputs": [
    {
     "data": {
      "text/plain": [
       "'Stay on top of Pakistan latest developments on the ground with Al Jazeera\\'s fact-based news, exclusive video footage, photos and updated maps. 📌 Meanwhile, BJP spokesperson, Guru Prakash, paints the Centre\\'s decision as a \"political and moral milestone\" to overturn years of the Congress\\'s \"lackadaisical attitude towards social justice\".. The ruling party, in fact, is all geared up to counter any projection that this is a vindication of the Opposition\\'s stand. The BJP plans to invoke the Congress\\'s lack of action on ... Pakistan\\'s government claimed late Tuesday night that it had \"credible intelligence\" that India was planning to take military action within hours in retaliation for the April 22 terrorist attack ... The document, a National Intelligence Estimate (NIE), studied the India-Pakistan dynamic and offered one conclusion: if war erupts, it will likely start with something like Kashmir, and Pakistan ... ARY NEWS brings you 24/7 Live Streaming, Headlines, Bulletins, Talk Shows, Infotainment, and much more. Watch minute-by-minute updates of current affairs and happenings from Pakistan and all ...'"
      ]
     },
     "execution_count": 5,
     "metadata": {},
     "output_type": "execute_result"
    }
   ],
   "source": [
    "results = search_tool.invoke('Top News in Pakistan Today')\n",
    "results"
   ]
  },
  {
   "cell_type": "code",
   "execution_count": 6,
   "id": "b4d548ee",
   "metadata": {},
   "outputs": [],
   "source": [
    "llm = ChatOpenAI()"
   ]
  },
  {
   "cell_type": "code",
   "execution_count": 7,
   "id": "3d34b7b0",
   "metadata": {},
   "outputs": [
    {
     "data": {
      "text/plain": [
       "AIMessage(content='Hello! How can I assist you today?', additional_kwargs={'refusal': None}, response_metadata={'token_usage': {'completion_tokens': 10, 'prompt_tokens': 8, 'total_tokens': 18, 'completion_tokens_details': {'accepted_prediction_tokens': 0, 'audio_tokens': 0, 'reasoning_tokens': 0, 'rejected_prediction_tokens': 0}, 'prompt_tokens_details': {'audio_tokens': 0, 'cached_tokens': 0}}, 'model_name': 'gpt-3.5-turbo-0125', 'system_fingerprint': None, 'id': 'chatcmpl-BSm2R6kLoBEmmm141CABBixs7E5m0', 'finish_reason': 'stop', 'logprobs': None}, id='run-64ab6549-6d10-472f-983e-55e703faf339-0', usage_metadata={'input_tokens': 8, 'output_tokens': 10, 'total_tokens': 18, 'input_token_details': {'audio': 0, 'cache_read': 0}, 'output_token_details': {'audio': 0, 'reasoning': 0}})"
      ]
     },
     "execution_count": 7,
     "metadata": {},
     "output_type": "execute_result"
    }
   ],
   "source": [
    "llm.invoke('Hi')"
   ]
  },
  {
   "cell_type": "code",
   "execution_count": 8,
   "id": "7562268c",
   "metadata": {},
   "outputs": [],
   "source": [
    "from langchain.agents import create_react_agent, AgentExecutor\n",
    "from langchain import hub"
   ]
  },
  {
   "cell_type": "code",
   "execution_count": 9,
   "id": "92ea5df3",
   "metadata": {},
   "outputs": [
    {
     "name": "stderr",
     "output_type": "stream",
     "text": [
      "d:\\Learning\\GenAI\\Dev\\Langchain\\.venv\\Lib\\site-packages\\langsmith\\client.py:278: LangSmithMissingAPIKeyWarning: API key must be provided when using hosted LangSmith API\n",
      "  warnings.warn(\n"
     ]
    }
   ],
   "source": [
    "# step 2: Pull th ReAct prompt from Lnagchain hub\n",
    "prompt = hub.pull('hwchase17/react')"
   ]
  },
  {
   "cell_type": "code",
   "execution_count": 10,
   "id": "cab9f1de",
   "metadata": {},
   "outputs": [],
   "source": [
    "# Step 3: Create the ReAct agent manually with the pulled prompt\n",
    "\n",
    "agent = create_react_agent(llm=llm,\n",
    "                           tools=[search_tool],\n",
    "                           prompt=prompt)"
   ]
  },
  {
   "cell_type": "code",
   "execution_count": 11,
   "id": "8cbb5bef",
   "metadata": {},
   "outputs": [],
   "source": [
    "# Step 4 : Wrap it with Agent Executor\n",
    "agent_executor = AgentExecutor(agent=agent,\n",
    "                               tools=[search_tool],\n",
    "                               verbose=True)"
   ]
  },
  {
   "cell_type": "code",
   "execution_count": 15,
   "id": "8d6a34cc",
   "metadata": {},
   "outputs": [
    {
     "name": "stdout",
     "output_type": "stream",
     "text": [
      "\n",
      "\n",
      "\u001b[1m> Entering new AgentExecutor chain...\u001b[0m\n",
      "\u001b[32;1m\u001b[1;3mLet's gather information about the upcoming match between PSL teams Quetta Gladiators and Multan Sultans.\n",
      "Action: duckduckgo_search\n",
      "Action Input: PSL Quetta Gladiators vs Multan Sultans preview\u001b[0m\u001b[36;1m\u001b[1;3mGaddafi Stadium in Lahore will welcome Quetta Gladiators and Multan Sultans, who will square off tonight in Match 18 of the Pakistan Super League (PSL) 2025. Both sides are at very different ends ... Quetta Gladiators vs Multan Sultans prediction The Quetta Gladiators come into this one on the back of back-to-back victories. The most recent of which saw them defeat Peshawar Zalmi by 64 runs in Quetta the other day, scoring 178-7 in 20 overs with contributions from all of the top order before skittling Peshawar for just 114 thanks to a five ... Live on Quetta Gladiators Official Social Media | DRS - De Review Show | PSL 2025 | Match Preview - Quetta Gladiators vs Multan SultansWelcome to a special L... The Gladiators will present a difficult challenge to the Sultans with the ball. Quetta bowled out Peshawar for 114 runs in their most recent match and successfully defended a 142-run target against Karachi Kings. QUE vs MUL Match Details . Quetta Gladiators vs Multan Sultans - 18th Match, Pakistan Super League 2025. Venue: Gaddafi Stadium ... PSL 2025 Match 18 Preview . Multan Sultans and Quetta Gladiators are set to clash in Match 18 of the PSL 2025 at the iconic Gaddafi Stadium. Multan have looked poor this season. ... Quetta Gladiators, captained by Saud Shakeel, have shown flashes of brilliance but lack consistency. With players like Rilee Rossouw and Finn Allen in the lineup ...\u001b[0m\u001b[32;1m\u001b[1;3mI need to find out more specific details about their recent performances and key players.\n",
      "Action: duckduckgo_search\n",
      "Action Input: Quetta Gladiators vs Multan Sultans head to head record\u001b[0m\u001b[36;1m\u001b[1;3mMultan Sultans lead Quetta Gladiators 9 to 4 in head-to-head stats in PSL. Tuesday, April 29, 2025 | 08:33 PM IST हिंदी में ... Multan Sultans vs Quetta Gladiators head-to-head in Pakistan Super League. Total matches played: 14; Multan Sultans won: 9; Get detailed head-to-head stats for Quetta Gladiators vs Multan Sultans in T20, including wins, losses, total runs, wickets taken, and more — only on Wisden. Quetta Gladiators vs Multan Sultans, T20, Gaddafi Stadium, Lahore, Pakistan Super League, 2025 Head-to Head If you are not in the stadium or can't watch the action live on TV, stay tuned to UrduPoint to see the live score of HBL PSL 10 Match 18, Quetta Gladiators vs. Multan Sultans. Head-to-Head PSL Past Records: Quetta Gladiators vs. Multan Sultans. Look at Quetta Gladiators' performance against Multan Sultans in previous PSL seasons. Quetta Gladiators vs Multan Sultans Cricket Head To Head Record and Score. Pakistan Super League APR 29, 23:00. Quetta Gladiators. vs. Multan Sultans. Live Stream. Match Live. Overview Chat H2H. ... Head to Head Record. Top Batting Performers. Most Runs # ... Quetta Gladiators 90 for 0 (Allen 45*, Shakeel 42*) beat Multan Sultans 89 (Rizwan 44*, Shahzad 4-23, Faheem 2-18, Ashraf 2-21) by 10 wickets\u001b[0m\u001b[32;1m\u001b[1;3mI should also check for any injuries or team news that might affect the match outcome.\n",
      "Action: duckduckgo_search\n",
      "Action Input: Quetta Gladiators vs Multan Sultans latest team news\u001b[0m\u001b[36;1m\u001b[1;3mLAHORE - A fiery four-wicket burst from Khurram Shahzad, followed by a ruthless, unbeaten opening partnership between Saud Shakeel and Finn Allen, powered Quetta Gladiators to a commanding 10-wicket victory over Multan Sultans in a one-sided, low-scoring clash of the HBL PSL 10 at the iconic Gaddafi Stadium in Lahore. Multan Sultans vs Quetta Gladiators: Team news. Quetta are currently third in the points table, and a win would take to second place, behind only Islamabad United.Their batting has so far been dependent on Kusal Mendis and Rilee Rossouw, though there have been contributions from Finn Allen, Mohammad Nawaz, and captain Saud Shakeel as well. Curtis Campher became the Quetta Gladiators pacer's fourth wicket in the PSL 10 game. Campher's dismissal left Multan Sultans reeling at 20/4 in 3.5 overs, with Mohammad Rizwan firm at the ... Quetta Gladiators 55/0 in 4.6 overs 1st wkt Partnership: 50 off 30 balls between S Shakeel (28) and F Allen (24) Mandatory Power play (1-6): Quetta Gladiators 74/0 ... Quetta Gladiators achieved a record-breaking 10-wicket victory over Multan Sultans. Multan Sultans recorded their lowest-ever PSL total of 89 runs. Khurram Shahzad was the Player of the Match for his outstanding bowling performance. Quetta's openers, Saud Shakeel and Finn Allen, achieved the fastest successful run chase in PSL history.\u001b[0m\u001b[32;1m\u001b[1;3mI now know the final answer\n",
      "Final Answer: Quetta Gladiators have a head-to-head record of 4 wins against Multan Sultans who have 9 wins. Quetta Gladiators are in good form with back-to-back victories and have key players like Saud Shakeel and Finn Allen. Multan Sultans are struggling this season and recently suffered a big loss to Quetta Gladiators with a record-breaking 10-wicket victory.\u001b[0m\n",
      "\n",
      "\u001b[1m> Finished chain.\u001b[0m\n",
      "{'input': ' Give a preview for PSL Quetta Gladdiator and Multan Sultans', 'output': 'Quetta Gladiators have a head-to-head record of 4 wins against Multan Sultans who have 9 wins. Quetta Gladiators are in good form with back-to-back victories and have key players like Saud Shakeel and Finn Allen. Multan Sultans are struggling this season and recently suffered a big loss to Quetta Gladiators with a record-breaking 10-wicket victory.'}\n"
     ]
    }
   ],
   "source": [
    "# Step 5: Invoke\n",
    "response = agent_executor.invoke({\"input\" : \" Give a preview for PSL Quetta Gladdiator and Multan Sultans\"})\n",
    "print(response)"
   ]
  },
  {
   "cell_type": "code",
   "execution_count": 16,
   "id": "55ec4b8f",
   "metadata": {},
   "outputs": [
    {
     "data": {
      "text/plain": [
       "'Quetta Gladiators have a head-to-head record of 4 wins against Multan Sultans who have 9 wins. Quetta Gladiators are in good form with back-to-back victories and have key players like Saud Shakeel and Finn Allen. Multan Sultans are struggling this season and recently suffered a big loss to Quetta Gladiators with a record-breaking 10-wicket victory.'"
      ]
     },
     "execution_count": 16,
     "metadata": {},
     "output_type": "execute_result"
    }
   ],
   "source": [
    "response['output']"
   ]
  },
  {
   "cell_type": "markdown",
   "id": "f737497b",
   "metadata": {},
   "source": [
    "\n",
    "\n",
    "# ReAct\n",
    "\n",
    "ReAct is a design pattern used in AI agents that stands for Reasoning + Acting. It combines:,\n",
    "\n",
    "1. **Reasoning**: The agent thinks about what to do by:\n",
    "   - Analyzing the current situation\n",
    "   - Breaking down complex tasks\n",
    "   - Planning next steps\n",
    "   - Learning from previous actions\n",
    "\n",
    "2. **Acting**: The agent takes concrete actions by:\n",
    "   - Using available tools (like search, APIs, calculators)\n",
    "   - Executing planned steps\n",
    "   - Gathering new information\n",
    "\n",
    "The ReAct pattern follows this loop:\n",
    "1. **Thought**: Agent reasons about the current state and what to do next\n",
    "2. **Action**: Agent selects and uses an appropriate tool\n",
    "3. **Observation**: Agent processes the results of the action\n",
    "4. **Repeat**: Agent continues this cycle until the goal is achieved\n",
    "   \n",
    "In the code above, we implemented ReAct using:\n",
    "\n",
    "- `create_react_agent()`: Creates an agent with the ReAct prompt pattern\n",
    "- `AgentExecutor`: Manages the execution loop of thinking and acting\n",
    "- Tools like `DuckDuckGoSearchRun`: Provides capabilities for actions\n"
   ]
  },
  {
   "cell_type": "markdown",
   "id": "3cb68f9b",
   "metadata": {},
   "source": [
    "# Agent and AgentExecutor\n",
    "\n",
    "`AgentExecutor` orchestrate the entire loop:\n",
    " - Sends the input and previous messages to the agent\n",
    " - Gets the next `action` from agent\n",
    " - Executes that tool woth provided input\n",
    " - Adds the tools's `observation` basck into the history\n",
    " - Loops again with updated history until the agent says `Final Answer`"
   ]
  }
 ],
 "metadata": {
  "kernelspec": {
   "display_name": ".venv",
   "language": "python",
   "name": "python3"
  },
  "language_info": {
   "codemirror_mode": {
    "name": "ipython",
    "version": 3
   },
   "file_extension": ".py",
   "mimetype": "text/x-python",
   "name": "python",
   "nbconvert_exporter": "python",
   "pygments_lexer": "ipython3",
   "version": "3.11.0"
  }
 },
 "nbformat": 4,
 "nbformat_minor": 5
}
